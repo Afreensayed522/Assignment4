{
 "cells": [
  {
   "cell_type": "code",
   "execution_count": 5,
   "id": "0d9b3ce8",
   "metadata": {},
   "outputs": [],
   "source": [
    "string1=\"sayed mukharam pasha\""
   ]
  },
  {
   "cell_type": "code",
   "execution_count": 6,
   "id": "ec399c2b",
   "metadata": {},
   "outputs": [
    {
     "data": {
      "text/plain": [
       "'sayed mukharam pasha'"
      ]
     },
     "execution_count": 6,
     "metadata": {},
     "output_type": "execute_result"
    }
   ],
   "source": [
    "string1"
   ]
  },
  {
   "cell_type": "code",
   "execution_count": 7,
   "id": "92bedc27",
   "metadata": {},
   "outputs": [],
   "source": [
    "string2=\"sayed ameerunissa begum\""
   ]
  },
  {
   "cell_type": "code",
   "execution_count": 8,
   "id": "e269a868",
   "metadata": {},
   "outputs": [
    {
     "data": {
      "text/plain": [
       "'sayed ameerunissa begum'"
      ]
     },
     "execution_count": 8,
     "metadata": {},
     "output_type": "execute_result"
    }
   ],
   "source": [
    "string2"
   ]
  },
  {
   "cell_type": "code",
   "execution_count": 9,
   "id": "0b05493b",
   "metadata": {},
   "outputs": [],
   "source": [
    "string3=\"sayed imran\""
   ]
  },
  {
   "cell_type": "code",
   "execution_count": 10,
   "id": "36910172",
   "metadata": {},
   "outputs": [
    {
     "data": {
      "text/plain": [
       "'sayed imran'"
      ]
     },
     "execution_count": 10,
     "metadata": {},
     "output_type": "execute_result"
    }
   ],
   "source": [
    "string3"
   ]
  },
  {
   "cell_type": "code",
   "execution_count": 11,
   "id": "d812751a",
   "metadata": {},
   "outputs": [],
   "source": [
    "string4=\"sayed irfan\""
   ]
  },
  {
   "cell_type": "code",
   "execution_count": 12,
   "id": "19293c2f",
   "metadata": {},
   "outputs": [
    {
     "data": {
      "text/plain": [
       "'sayed irfan'"
      ]
     },
     "execution_count": 12,
     "metadata": {},
     "output_type": "execute_result"
    }
   ],
   "source": [
    "string4"
   ]
  },
  {
   "cell_type": "code",
   "execution_count": 13,
   "id": "f3f4f72e",
   "metadata": {},
   "outputs": [],
   "source": [
    "string5=\"sayed afreen\""
   ]
  },
  {
   "cell_type": "code",
   "execution_count": 14,
   "id": "f55f9072",
   "metadata": {},
   "outputs": [
    {
     "data": {
      "text/plain": [
       "'sayed afreen'"
      ]
     },
     "execution_count": 14,
     "metadata": {},
     "output_type": "execute_result"
    }
   ],
   "source": [
    "string5"
   ]
  },
  {
   "cell_type": "code",
   "execution_count": 15,
   "id": "c5e8db89",
   "metadata": {},
   "outputs": [],
   "source": [
    "string6=\"abdul bari\""
   ]
  },
  {
   "cell_type": "code",
   "execution_count": 16,
   "id": "921edc91",
   "metadata": {},
   "outputs": [
    {
     "data": {
      "text/plain": [
       "'abdul bari'"
      ]
     },
     "execution_count": 16,
     "metadata": {},
     "output_type": "execute_result"
    }
   ],
   "source": [
    "string6"
   ]
  },
  {
   "cell_type": "code",
   "execution_count": 17,
   "id": "d32b1653",
   "metadata": {},
   "outputs": [],
   "source": [
    "string7=\"abdul sharifunisa\""
   ]
  },
  {
   "cell_type": "code",
   "execution_count": 18,
   "id": "ef538591",
   "metadata": {},
   "outputs": [
    {
     "data": {
      "text/plain": [
       "'abdul sharifunisa'"
      ]
     },
     "execution_count": 18,
     "metadata": {},
     "output_type": "execute_result"
    }
   ],
   "source": [
    "string7"
   ]
  },
  {
   "cell_type": "code",
   "execution_count": 19,
   "id": "9b3de7d7",
   "metadata": {},
   "outputs": [],
   "source": [
    "string8=\"abdul vahed\""
   ]
  },
  {
   "cell_type": "code",
   "execution_count": 20,
   "id": "06bc52bc",
   "metadata": {},
   "outputs": [
    {
     "data": {
      "text/plain": [
       "'abdul vahed'"
      ]
     },
     "execution_count": 20,
     "metadata": {},
     "output_type": "execute_result"
    }
   ],
   "source": [
    "string8"
   ]
  },
  {
   "cell_type": "code",
   "execution_count": 21,
   "id": "f1266abe",
   "metadata": {},
   "outputs": [],
   "source": [
    "string9=\"abdul ayub\""
   ]
  },
  {
   "cell_type": "code",
   "execution_count": 22,
   "id": "667d9b71",
   "metadata": {},
   "outputs": [
    {
     "data": {
      "text/plain": [
       "'abdul ayub'"
      ]
     },
     "execution_count": 22,
     "metadata": {},
     "output_type": "execute_result"
    }
   ],
   "source": [
    "string9"
   ]
  },
  {
   "cell_type": "code",
   "execution_count": 23,
   "id": "4537dc37",
   "metadata": {},
   "outputs": [],
   "source": [
    "string10=\"abdul javeed\""
   ]
  },
  {
   "cell_type": "code",
   "execution_count": 24,
   "id": "5ed4d782",
   "metadata": {},
   "outputs": [
    {
     "data": {
      "text/plain": [
       "'abdul javeed'"
      ]
     },
     "execution_count": 24,
     "metadata": {},
     "output_type": "execute_result"
    }
   ],
   "source": [
    "string10"
   ]
  },
  {
   "cell_type": "code",
   "execution_count": null,
   "id": "3c3b01a3",
   "metadata": {},
   "outputs": [],
   "source": []
  }
 ],
 "metadata": {
  "kernelspec": {
   "display_name": "Python 3 (ipykernel)",
   "language": "python",
   "name": "python3"
  },
  "language_info": {
   "codemirror_mode": {
    "name": "ipython",
    "version": 3
   },
   "file_extension": ".py",
   "mimetype": "text/x-python",
   "name": "python",
   "nbconvert_exporter": "python",
   "pygments_lexer": "ipython3",
   "version": "3.10.9"
  }
 },
 "nbformat": 4,
 "nbformat_minor": 5
}
