{
 "cells": [
  {
   "cell_type": "code",
   "execution_count": 1,
   "id": "0d9b3ce8",
   "metadata": {},
   "outputs": [],
   "source": [
    "var=\"jilabi\""
   ]
  },
  {
   "cell_type": "code",
   "execution_count": 2,
   "id": "fe4b0911",
   "metadata": {},
   "outputs": [
    {
     "data": {
      "text/plain": [
       "'jilabi'"
      ]
     },
     "execution_count": 2,
     "metadata": {},
     "output_type": "execute_result"
    }
   ],
   "source": [
    "var"
   ]
  },
  {
   "cell_type": "code",
   "execution_count": 4,
   "id": "4451e792",
   "metadata": {},
   "outputs": [],
   "source": [
    "var1=\"panipuri\""
   ]
  },
  {
   "cell_type": "code",
   "execution_count": 5,
   "id": "1de1f7fb",
   "metadata": {},
   "outputs": [
    {
     "data": {
      "text/plain": [
       "'panipuri'"
      ]
     },
     "execution_count": 5,
     "metadata": {},
     "output_type": "execute_result"
    }
   ],
   "source": [
    "var1"
   ]
  },
  {
   "cell_type": "code",
   "execution_count": 7,
   "id": "8bf63059",
   "metadata": {},
   "outputs": [],
   "source": [
    "var2=\"pizza\""
   ]
  },
  {
   "cell_type": "code",
   "execution_count": 8,
   "id": "f512b3a0",
   "metadata": {},
   "outputs": [
    {
     "data": {
      "text/plain": [
       "'pizza'"
      ]
     },
     "execution_count": 8,
     "metadata": {},
     "output_type": "execute_result"
    }
   ],
   "source": [
    "var2"
   ]
  },
  {
   "cell_type": "code",
   "execution_count": 9,
   "id": "ca2f7745",
   "metadata": {},
   "outputs": [],
   "source": [
    "var3=\"chicken biryani\""
   ]
  },
  {
   "cell_type": "code",
   "execution_count": 10,
   "id": "decf3922",
   "metadata": {},
   "outputs": [
    {
     "data": {
      "text/plain": [
       "'chicken biryani'"
      ]
     },
     "execution_count": 10,
     "metadata": {},
     "output_type": "execute_result"
    }
   ],
   "source": [
    "var3"
   ]
  },
  {
   "cell_type": "code",
   "execution_count": 11,
   "id": "a56273f0",
   "metadata": {},
   "outputs": [],
   "source": [
    "var4=\"motton\""
   ]
  },
  {
   "cell_type": "code",
   "execution_count": 12,
   "id": "db94d1ba",
   "metadata": {},
   "outputs": [
    {
     "data": {
      "text/plain": [
       "'motton'"
      ]
     },
     "execution_count": 12,
     "metadata": {},
     "output_type": "execute_result"
    }
   ],
   "source": [
    "var4"
   ]
  },
  {
   "cell_type": "code",
   "execution_count": 13,
   "id": "a0eaa4ba",
   "metadata": {},
   "outputs": [],
   "source": [
    "var5=\"pasta\""
   ]
  },
  {
   "cell_type": "code",
   "execution_count": 14,
   "id": "63729ee8",
   "metadata": {},
   "outputs": [
    {
     "data": {
      "text/plain": [
       "'pasta'"
      ]
     },
     "execution_count": 14,
     "metadata": {},
     "output_type": "execute_result"
    }
   ],
   "source": [
    "var5"
   ]
  },
  {
   "cell_type": "code",
   "execution_count": 15,
   "id": "29860d5c",
   "metadata": {},
   "outputs": [],
   "source": [
    "var6=\"chiken\""
   ]
  },
  {
   "cell_type": "code",
   "execution_count": 16,
   "id": "ffaa22f3",
   "metadata": {},
   "outputs": [
    {
     "data": {
      "text/plain": [
       "'chiken'"
      ]
     },
     "execution_count": 16,
     "metadata": {},
     "output_type": "execute_result"
    }
   ],
   "source": [
    "var6"
   ]
  },
  {
   "cell_type": "code",
   "execution_count": 17,
   "id": "630d9ef7",
   "metadata": {},
   "outputs": [],
   "source": [
    "var7=\"palakova\""
   ]
  },
  {
   "cell_type": "code",
   "execution_count": 18,
   "id": "8e432572",
   "metadata": {},
   "outputs": [
    {
     "data": {
      "text/plain": [
       "'palakova'"
      ]
     },
     "execution_count": 18,
     "metadata": {},
     "output_type": "execute_result"
    }
   ],
   "source": [
    "var7"
   ]
  },
  {
   "cell_type": "code",
   "execution_count": 19,
   "id": "21bbb690",
   "metadata": {},
   "outputs": [],
   "source": [
    "var8=\"dosa\""
   ]
  },
  {
   "cell_type": "code",
   "execution_count": 20,
   "id": "19293c2f",
   "metadata": {},
   "outputs": [
    {
     "data": {
      "text/plain": [
       "'dosa'"
      ]
     },
     "execution_count": 20,
     "metadata": {},
     "output_type": "execute_result"
    }
   ],
   "source": [
    "var8"
   ]
  },
  {
   "cell_type": "code",
   "execution_count": 21,
   "id": "0c9cbc2f",
   "metadata": {},
   "outputs": [],
   "source": [
    "var9=\"manchuriya\""
   ]
  },
  {
   "cell_type": "code",
   "execution_count": 22,
   "id": "6e10fe8d",
   "metadata": {},
   "outputs": [
    {
     "data": {
      "text/plain": [
       "'manchuriya'"
      ]
     },
     "execution_count": 22,
     "metadata": {},
     "output_type": "execute_result"
    }
   ],
   "source": [
    "var9"
   ]
  },
  {
   "cell_type": "code",
   "execution_count": 23,
   "id": "ea3bbbb4",
   "metadata": {},
   "outputs": [],
   "source": [
    "var10=\"gulab jamun\""
   ]
  },
  {
   "cell_type": "code",
   "execution_count": 24,
   "id": "5ff1a98b",
   "metadata": {},
   "outputs": [
    {
     "data": {
      "text/plain": [
       "'gulab jamun'"
      ]
     },
     "execution_count": 24,
     "metadata": {},
     "output_type": "execute_result"
    }
   ],
   "source": [
    "var10"
   ]
  },
  {
   "cell_type": "code",
   "execution_count": 25,
   "id": "f3f4f72e",
   "metadata": {},
   "outputs": [],
   "source": [
    "var11=\"halwa\""
   ]
  },
  {
   "cell_type": "code",
   "execution_count": 26,
   "id": "5ea68606",
   "metadata": {},
   "outputs": [
    {
     "data": {
      "text/plain": [
       "'halwa'"
      ]
     },
     "execution_count": 26,
     "metadata": {},
     "output_type": "execute_result"
    }
   ],
   "source": [
    "var11"
   ]
  },
  {
   "cell_type": "code",
   "execution_count": null,
   "id": "14176f09",
   "metadata": {},
   "outputs": [],
   "source": []
  },
  {
   "cell_type": "code",
   "execution_count": null,
   "id": "6ceea988",
   "metadata": {},
   "outputs": [],
   "source": []
  },
  {
   "cell_type": "code",
   "execution_count": null,
   "id": "2e483b43",
   "metadata": {},
   "outputs": [],
   "source": []
  }
 ],
 "metadata": {
  "kernelspec": {
   "display_name": "Python 3 (ipykernel)",
   "language": "python",
   "name": "python3"
  },
  "language_info": {
   "codemirror_mode": {
    "name": "ipython",
    "version": 3
   },
   "file_extension": ".py",
   "mimetype": "text/x-python",
   "name": "python",
   "nbconvert_exporter": "python",
   "pygments_lexer": "ipython3",
   "version": "3.10.9"
  }
 },
 "nbformat": 4,
 "nbformat_minor": 5
}
